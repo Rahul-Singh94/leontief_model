{
 "cells": [
  {
   "cell_type": "code",
   "execution_count": 1,
   "metadata": {
    "collapsed": false,
    "deletable": true,
    "editable": true
   },
   "outputs": [
    {
     "name": "stdout",
     "output_type": "stream",
     "text": [
      "[[ 0.1   0.05  0.3   0.2 ]\n",
      " [ 0.15  0.25  0.05  0.1 ]\n",
      " [ 0.3   0.1   0.1   0.25]\n",
      " [ 0.15  0.2   0.1   0.2 ]]\n"
     ]
    }
   ],
   "source": [
    "import numpy as np\n",
    "import csv\n",
    "n=4\n",
    "##### Leontief Open Model######\n",
    "leontief_matrix_open=np.zeros((n,n))\n",
    "with open('https://raw.githubusercontent.com/Rahul-Singh94/leontief_model/master/leontief_data.txt') as csv_file:\n",
    "  csv_reader=csv.reader(csv_file,delimiter=',')\n",
    "  i=0\n",
    "  for row in csv_reader:\n",
    "   if(i!=0):\n",
    "    for k in range(4):\n",
    "     leontief_matrix_open[i-1][k]=row[k]\n",
    "   i=i+1\t  \n",
    "##leontief_matrix_open=np.array([[0.4,0.2,0.2],[0.3,0.2,0.2],[0.1,0.2,0.2]])\n",
    "print(leontief_matrix_open)"
   ]
  },
  {
   "cell_type": "code",
   "execution_count": 2,
   "metadata": {
    "collapsed": false,
    "deletable": true,
    "editable": true
   },
   "outputs": [
    {
     "name": "stdout",
     "output_type": "stream",
     "text": [
      "[  85580.98688183   50622.97601405   96157.85718206  103221.91119161]\n"
     ]
    }
   ],
   "source": [
    "I=np.identity(n)\n",
    "demand=[25000,10000,30000,50000]\n",
    "l_solve=I-leontief_matrix_open\n",
    "production_vector=np.linalg.solve(l_solve,demand)\n",
    "print(production_vector)"
   ]
  },
  {
   "cell_type": "markdown",
   "metadata": {
    "deletable": true,
    "editable": true
   },
   "source": [
    "eontief_matrix_closed=np.array([[0.1,0.4,0],[0.2,0.4,0.9],[0.7,0.2,0.1]])<br>\n",
    "rint(leontief_matrix_closed)"
   ]
  },
  {
   "cell_type": "markdown",
   "metadata": {
    "deletable": true,
    "editable": true
   },
   "source": [
    "=np.identity(n-1)<br>\n",
    "emand=[0,0,0]<br>\n",
    "_solve=I-leontief_matrix_closed<br>\n",
    "igenvalue,eigenvector=np.linalg.eig(leontief_matrix_closed)<br>\n",
    "rint(eigenvalue)<br>\n",
    "rint(-1*eigenvector[:,0])<br>\n",
    "eigenvector1=np.transpose(eigenvector[:,2])<br>\n",
    "production_vector=np.dot(leontief_matrix_closed,eigenvector1)\t<br>\n",
    "print(eigenvector1)"
   ]
  }
 ],
 "metadata": {
  "kernelspec": {
   "display_name": "Python 3",
   "language": "python",
   "name": "python3"
  },
  "language_info": {
   "codemirror_mode": {
    "name": "ipython",
    "version": 3
   },
   "file_extension": ".py",
   "mimetype": "text/x-python",
   "name": "python",
   "nbconvert_exporter": "python",
   "pygments_lexer": "ipython3",
   "version": "3.5.2"
  }
 },
 "nbformat": 4,
 "nbformat_minor": 2
}
